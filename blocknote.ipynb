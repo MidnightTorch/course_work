{
 "cells": [
  {
   "cell_type": "markdown",
   "id": "32df1479",
   "metadata": {},
   "source": [
    "<h1>Анализ данных в курсовой по истории России 20 века</h1>\n",
    "<br>\n",
    "<b>Тема</b>: статистический анализ периодики журнала \"Безбожник\"(\"Безбожник у станка\") 1923-1930 годов<br>    \n",
    "<b>Проблема</b>: отражение основных направлений антирелигиозной периодики в 1920-е годы<br>\n",
    "<b>Объект</b>: антирелигиозная политика большевиков в периода НЭПа<br>\n",
    "<b>Предмет</b>: иллюстрации и тексты журнала \"Безбожник\"(\"Безбожник у станка\") в 1920-е годы<br>\n",
    "    \n",
    "Введение \n",
    "        <br><pre>    Среди множество советских инициатив советской власти в ранние годы своего существования было не мало амбициозных проектов, направленных именно на реализацию программы коммунистического общественного строительства (например, новая архитектура или повсеместное распространение авангардного искусства). Одним из таких направлений была антирелигиозная пропаганда. С антирелигиозной пропагандой сложилась достаточно непростая ситуация: государство не создало никаких государственных органов для осуществления антирелигиозной пропаганды, однако самая антирелигиозная пропаганда была тесно связана с государством. Самой значимой организацией, осуществлявшей антирелигиозную пропаганду, был Союз воинствующих безбожников (далее СВБ), образованный в 1925 году. СВБ занимался организацией антирелигиозного-просветительской деятельности в СССР. Основой его деятельности было издание периодики: газета \"Безбожник\", журналы \"Безбожный крокодил\", \"Безбожник\", \"Атеист\", \"Антирелигиозник\" и некоторых других. Для данной работы выбран именно журнал \"Безбожник\", так как он был направлен на работу с массами и при этом содержит в равной степени значимое количество текста и иллюстраций. Благодаря материалам журнала можно проследить направление самой пропагандисткой политики. В журнале \"Антирелигиозник\" изложены теоритические и методологические основы работы членов Союза воинствующих безбожников, но он не отражает того, как происходили изменения в содержании того, что именно пытались донести населению редакторы журанла. \n",
    "    Таким образом, основной вопрос, на который я попытаюсь ответить в этой работе: какие тенденции отражает содержание журнала \"Безбожник\" в 1920-е годы?\n",
    " \n",
    " </pre>"
   ]
  },
  {
   "cell_type": "markdown",
   "id": "5c9a5ebe",
   "metadata": {},
   "source": [
    "Имеется заполенная csv-таблица с логическими значениями полей(+/-) пока еще только за 1923 год. Категории таблицы отражают различные темы или иллюстрации, упомянутые или изображенные в конкретном номере. Первоначальная задача - попробуем визуализировать основные тенденции за заполненный период."
   ]
  },
  {
   "cell_type": "code",
   "execution_count": null,
   "id": "ab96998b",
   "metadata": {},
   "outputs": [],
   "source": []
  },
  {
   "cell_type": "code",
   "execution_count": 125,
   "id": "16383496",
   "metadata": {},
   "outputs": [
    {
     "name": "stdout",
     "output_type": "stream",
     "text": [
      "Среднее отклонение: 2\n"
     ]
    }
   ],
   "source": [
    "import csv\n",
    "from math import sqrt\n",
    "\n",
    "\n",
    "entries = []\n",
    "\n",
    "with open(\"Bezbozhnik.csv\") as csvfile:\n",
    "    plots = csv.reader(csvfile, delimiter=\",\")\n",
    "    plotsLS = [i for i in plots] # нужен список, так как _csvfile не работает с методами списков\n",
    "    for row in plotsLS[1::]:\n",
    "        entries.append(row.count(\"+\"))\n",
    "            \n",
    "    \n",
    "mean = sum(entries) // len(entries)\n",
    "dispertion_not_devided_list = list(map(lambda x: abs(x - mean), entries))\n",
    "average_deviation = sqrt(sum(dispertion_not_devided_list)/len(entries))\n",
    "\n",
    "print(\"Среднее отклонение:\", round(average_deviation))\n"
   ]
  },
  {
   "cell_type": "markdown",
   "id": "ae101096",
   "metadata": {},
   "source": [
    "Таким образом, можно сделать промежуточный вывод, что в 1923-м году состав журналов был в общем счете примерно однороден - нет сильного отклонения даже если учесть, что в таблицу включены две пустые строки и однак почти не заполненная."
   ]
  },
  {
   "cell_type": "markdown",
   "id": "ef371c7d",
   "metadata": {},
   "source": [
    "Чтобы проверить этот вывод построим график количества плюсов в каждой категории. Для этого воспользуемся библиотекой matplotlib."
   ]
  },
  {
   "cell_type": "code",
   "execution_count": 88,
   "id": "82514fdb",
   "metadata": {},
   "outputs": [
    {
     "data": {
      "image/png": "[encoded data removed]",
      "text/plain": [
       "<Figure size 432x288 with 1 Axes>"
      ]
     },
     "metadata": {
      "needs_background": "light"
     },
     "output_type": "display_data"
    },
    {
     "name": "stdout",
     "output_type": "stream",
     "text": [
      "9 Христос 7 Бог 9 святые 6 крест 6 карикатуры на религиозные сюжеты 9 рабочие и крестьяне 6 Иегова 8 священники 7 христиане 8 буржуазия 6 монархия 9 разоблачение религии 9 власть, буржуазия и религия 6 разоблачение религии через науку 5 материализм\n",
      "41 15\n"
     ]
    }
   ],
   "source": [
    "import csv\n",
    "from matplotlib import pyplot\n",
    "from itertools import islice\n",
    "\n",
    "x_row = []\n",
    "\n",
    "with open(\"Bezbozhnik.csv\") as csvfile:\n",
    "    plots = csv.reader(csvfile, delimiter=\",\")\n",
    "    plotsLS = [i for i in plots]\n",
    "    new_tables = []\n",
    "    for i in range(len(plotsLS[0])):\n",
    "        for j in range(len(plotsLS)):\n",
    "            new_tables.append(plotsLS[j][i])\n",
    "    for i in range(len(plotsLS[0])):\n",
    "        x_row.append(\"\".join(islice(new_tables, i * 13, i * 13 + 13)))\n",
    "            \n",
    "    \n",
    "\n",
    "x_row.pop(0)\n",
    "x_row.pop(0)\n",
    "x_row.pop(1) # категории год, выпуск и реклама сейчас не нужны\n",
    "\n",
    "names = [] # готовим данные для гистограммы, оптимальнее способа решить эту задачу найти не удалось\n",
    "for i in x_row:\n",
    "    names.append(i.replace(\"-\", \"\").replace(\"+\", \"\"))\n",
    "values = []\n",
    "for i in x_row:\n",
    "    values.append(i.count(\"+\"))\n",
    "\n",
    "valuable = []\n",
    "\n",
    "for i in range(len(values)):\n",
    "    if values[i] > 4:\n",
    "        valuable.append(values[i])\n",
    "        valuable.append(names[i])\n",
    "    \n",
    "pyplot.subplot() # так как нормально читать диграмму не получится, сократим количество элементов\n",
    "pyplot.bar(valuable[0::2], valuable[1::2])\n",
    "pyplot.show()\n",
    "\n",
    "print(*valuable)\n",
    "print(len(names), len(valuable)//2)"
   ]
  },
  {
   "cell_type": "markdown",
   "id": "3b8a9a0d",
   "metadata": {},
   "source": [
    "Таким образом, получается выделить 15 из 41 самых часто встречающихся категорий в публикациях за 1923 год. Здесь можно отметить несколько неожиданных тенденций. Тут следует отметить, что разоблачение религии - разбор истории религии или ее сути, но не упомнинание о вскрытии мощей.\n",
    "1. Иегова упоминается почти так же часто как Бог -> важность евреев в новой стране.\n",
    "2. Среди часто упоминаемых: крест, священники, Христос, христиане -> самые понятные простому русскому человеку категории.\n",
    "3. Просветительские и политические элементы представлены в малом количестве -> категории феминистические темы, медицина и наука, разоблачение таинств, свастика (индийская свастика здесь не учтена, учитывается только нацисткая свастика), теория эволюции, карикатуры на религиозные сюжеты сюда не попали в график встречаемости больше 4 раз."
   ]
  },
  {
   "cell_type": "code",
   "execution_count": null,
   "id": "db28406f",
   "metadata": {},
   "outputs": [],
   "source": []
  },
  {
   "cell_type": "code",
   "execution_count": null,
   "id": "6903b059",
   "metadata": {},
   "outputs": [],
   "source": []
  }
 ],
 "metadata": {
  "kernelspec": {
   "display_name": "Python 3 (ipykernel)",
   "language": "python",
   "name": "python3"
  },
  "language_info": {
   "codemirror_mode": {
    "name": "ipython",
    "version": 3
   },
   "file_extension": ".py",
   "mimetype": "text/x-python",
   "name": "python",
   "nbconvert_exporter": "python",
   "pygments_lexer": "ipython3",
   "version": "3.8.5"
  }
 },
 "nbformat": 4,
 "nbformat_minor": 5
}
